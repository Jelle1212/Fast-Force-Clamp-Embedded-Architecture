{
 "cells": [
  {
   "cell_type": "code",
   "execution_count": 18,
   "id": "d1dccc7c",
   "metadata": {},
   "outputs": [],
   "source": [
    "import numpy as np\n",
    "import matplotlib.pyplot as plt\n",
    "from scipy import signal\n",
    "Total_ADC_Count = pow(2, 16)\n",
    "Vref = 4.096\n",
    "Vin_pp = 20"
   ]
  },
  {
   "cell_type": "code",
   "execution_count": 19,
   "id": "712264e6",
   "metadata": {},
   "outputs": [],
   "source": [
    "ADC_OUT = 8000"
   ]
  },
  {
   "cell_type": "code",
   "execution_count": 20,
   "id": "6b6fe501",
   "metadata": {},
   "outputs": [],
   "source": [
    "beta = 4.5e-6\n",
    "k = 0.178"
   ]
  },
  {
   "cell_type": "code",
   "execution_count": 21,
   "id": "91c8df87",
   "metadata": {},
   "outputs": [
    {
     "data": {
      "text/plain": [
       "1000.0"
      ]
     },
     "execution_count": 21,
     "metadata": {},
     "output_type": "execute_result"
    }
   ],
   "source": [
    "Diff_Input = 2*Vref*ADC_OUT/Total_ADC_Count\n",
    "Diff_Input = Diff_Input\n",
    "Diff_Input*1000"
   ]
  },
  {
   "cell_type": "code",
   "execution_count": 5,
   "id": "66949616",
   "metadata": {},
   "outputs": [],
   "source": [
    "Diff_Input = 2e-3"
   ]
  },
  {
   "cell_type": "code",
   "execution_count": 47,
   "id": "ce773889",
   "metadata": {},
   "outputs": [],
   "source": [
    "ADC_Output =int((Diff_Input/Vref)*(Total_ADC_Count/2))"
   ]
  },
  {
   "cell_type": "code",
   "execution_count": 48,
   "id": "4779c8d1",
   "metadata": {},
   "outputs": [
    {
     "data": {
      "text/plain": [
       "104"
      ]
     },
     "execution_count": 48,
     "metadata": {},
     "output_type": "execute_result"
    }
   ],
   "source": [
    "ADC_Output"
   ]
  },
  {
   "cell_type": "code",
   "execution_count": 32,
   "id": "01f0ca58",
   "metadata": {},
   "outputs": [],
   "source": [
    "delta_x = beta * Diff_Input"
   ]
  },
  {
   "cell_type": "code",
   "execution_count": 33,
   "id": "35b60984",
   "metadata": {},
   "outputs": [],
   "source": [
    "F = k * delta_x"
   ]
  },
  {
   "cell_type": "code",
   "execution_count": 34,
   "id": "419664e7",
   "metadata": {},
   "outputs": [
    {
     "data": {
      "text/plain": [
       "1.602e-09"
      ]
     },
     "execution_count": 34,
     "metadata": {},
     "output_type": "execute_result"
    }
   ],
   "source": [
    "F"
   ]
  },
  {
   "cell_type": "code",
   "execution_count": null,
   "id": "50865411",
   "metadata": {},
   "outputs": [],
   "source": [
    "delta_x"
   ]
  }
 ],
 "metadata": {
  "kernelspec": {
   "display_name": "Python 3 (ipykernel)",
   "language": "python",
   "name": "python3"
  },
  "language_info": {
   "codemirror_mode": {
    "name": "ipython",
    "version": 3
   },
   "file_extension": ".py",
   "mimetype": "text/x-python",
   "name": "python",
   "nbconvert_exporter": "python",
   "pygments_lexer": "ipython3",
   "version": "3.10.2"
  }
 },
 "nbformat": 4,
 "nbformat_minor": 5
}
